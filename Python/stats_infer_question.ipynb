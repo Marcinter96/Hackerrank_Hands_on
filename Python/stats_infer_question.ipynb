{
 "cells": [
  {
   "cell_type": "markdown",
   "metadata": {},
   "source": [
    "### Welcome to Statistical inference case study.\n",
    "- In this case study you are given a set of questions which needs to be answered using your knowledge on statistics.\n",
    "- For each question assign your answers to respective variables in the following cells.\n",
    "- Create a new notebook (will not be graded to try out your scripts ans assign the \n",
    "- All the answers are expected to be rounded off to two decimal places.\n",
    "- Once you assign your answers to variables in each cell run the cell to display incorrect answers if any.\n",
    "- Dont leave any variables unassigned.\n",
    "- Dont edit the script ment for evaluation\n",
    "- Once you are done with your solutions run all the cells (kernel -> Restart & run all)."
   ]
  },
  {
   "cell_type": "code",
   "execution_count": 129,
   "metadata": {},
   "outputs": [],
   "source": [
    "import numpy as np\n",
    "import math\n",
    "import scipy.stats\n",
    "\n",
    "import dill\n",
    "\n",
    "Quiz = dill.load(open(\"QuizClass.pik\", 'rb'))\n",
    "quiz = dill.load(open('Quiz.pik', 'rb'))"
   ]
  },
  {
   "cell_type": "markdown",
   "metadata": {},
   "source": [
    "1. Suppose a variable X has a bell-shaped distribution with a mean of 150 and a standard deviation of 20.  \n",
    "a. What percentage of X values lies between 130 and 170?  \n",
    "b. What percentage of X values lies between 110 and 190?  \n",
    "c. What percentage of X values lies above 190?  "
   ]
  },
  {
   "cell_type": "code",
   "execution_count": 130,
   "metadata": {},
   "outputs": [
    {
     "name": "stdout",
     "output_type": "stream",
     "text": [
      "all are correct\n"
     ]
    }
   ],
   "source": [
    "### Assign your answers here\n",
    "a_1 = round(scipy.stats.norm.cdf(170,150,20) - scipy.stats.norm.cdf(130,150,20),2)*100\n",
    "b_1 = round(scipy.stats.norm.cdf(190,150,20) - scipy.stats.norm.cdf(110,150,20),2)*100\n",
    "c_1 = round(scipy.stats.norm.sf(190,150,20)*100,2)\n",
    "\n",
    "### For evalution\n",
    "ans_1 = {\"a_1\":math.floor(a_1), \"b_1\": b_1, \"c_1\" : c_1}\n",
    "quiz.eval(1, ans_1)\n"
   ]
  },
  {
   "cell_type": "markdown",
   "metadata": {},
   "source": [
    "2. Variable X has a mean of 15 and a standard deviation of 2.  \n",
    "    a. What percentage of X values will lie within 1.5 standard deviation of the mean?     \n",
    "    b. What is the minimum percentage of X values that lie between 8 and 17?  "
   ]
  },
  {
   "cell_type": "code",
   "execution_count": 131,
   "metadata": {},
   "outputs": [
    {
     "ename": "NameError",
     "evalue": "name 'sps' is not defined",
     "output_type": "error",
     "traceback": [
      "\u001b[0;31m----------------------------------\u001b[0m",
      "\u001b[0;31mNameError\u001b[0mTraceback (most recent call last)",
      "\u001b[0;32m<ipython-input-131-0c89f3c3140e>\u001b[0m in \u001b[0;36m<module>\u001b[0;34m\u001b[0m\n\u001b[1;32m      2\u001b[0m \u001b[0msd\u001b[0m \u001b[0;34m=\u001b[0m \u001b[0;36m2\u001b[0m\u001b[0;34m\u001b[0m\u001b[0m\n\u001b[1;32m      3\u001b[0m \u001b[0;31m# define the distribution\u001b[0m\u001b[0;34m\u001b[0m\u001b[0;34m\u001b[0m\u001b[0m\n\u001b[0;32m----> 4\u001b[0;31m \u001b[0mdist\u001b[0m \u001b[0;34m=\u001b[0m \u001b[0msps\u001b[0m\u001b[0;34m.\u001b[0m\u001b[0mnorm\u001b[0m\u001b[0;34m(\u001b[0m\u001b[0mloc\u001b[0m\u001b[0;34m=\u001b[0m\u001b[0mmu\u001b[0m\u001b[0;34m,\u001b[0m \u001b[0mscale\u001b[0m\u001b[0;34m=\u001b[0m\u001b[0msd\u001b[0m\u001b[0;34m)\u001b[0m\u001b[0;34m\u001b[0m\u001b[0m\n\u001b[0m\u001b[1;32m      5\u001b[0m \u001b[0mx\u001b[0m \u001b[0;34m=\u001b[0m \u001b[0mnp\u001b[0m\u001b[0;34m.\u001b[0m\u001b[0mlinspace\u001b[0m\u001b[0;34m(\u001b[0m\u001b[0mdist\u001b[0m\u001b[0;34m.\u001b[0m\u001b[0mppf\u001b[0m\u001b[0;34m(\u001b[0m\u001b[0;36m.00001\u001b[0m\u001b[0;34m)\u001b[0m\u001b[0;34m,\u001b[0m \u001b[0mdist\u001b[0m\u001b[0;34m.\u001b[0m\u001b[0mppf\u001b[0m\u001b[0;34m(\u001b[0m\u001b[0;36m.99999\u001b[0m\u001b[0;34m)\u001b[0m\u001b[0;34m)\u001b[0m\u001b[0;34m\u001b[0m\u001b[0m\n\u001b[1;32m      6\u001b[0m \u001b[0;31m# Probability Density Function\u001b[0m\u001b[0;34m\u001b[0m\u001b[0;34m\u001b[0m\u001b[0m\n",
      "\u001b[0;31mNameError\u001b[0m: name 'sps' is not defined"
     ]
    }
   ],
   "source": [
    "mu = 15\n",
    "sd = 2\n",
    "# define the distribution\n",
    "dist = sps.norm(loc=mu, scale=sd)\n",
    "x = np.linspace(dist.ppf(.00001), dist.ppf(.99999))\n",
    "# Probability Density Function\n",
    "pdf = dist.pdf(x)\n",
    "# Cumulative Density Function\n",
    "cdf = dist.cdf(x)"
   ]
  },
  {
   "cell_type": "code",
   "execution_count": 132,
   "metadata": {},
   "outputs": [
    {
     "name": "stdout",
     "output_type": "stream",
     "text": [
      "all are correct\n"
     ]
    }
   ],
   "source": [
    "### Assign your answers here\n",
    "a_2 = round((scipy.stats.norm.cdf(18,15,2) - scipy.stats.norm.cdf(12,15,2))*100,2)\n",
    "b_2 = round((scipy.stats.norm.cdf(17,15,2) - scipy.stats.norm.cdf(8,15,2))*100,2)\n",
    "\n",
    "### For evalution\n",
    "ans_2 = {\"a_2\":a_2, \"b_2\": b_2}\n",
    "quiz.eval(2, ans_2)"
   ]
  },
  {
   "cell_type": "markdown",
   "metadata": {},
   "source": [
    "3. What is the 25 percentile of the below samples  \n",
    "   [3.09, 2.48, 2.02, 2.98, 3.53, 2.41, 2.01, 2.95, 2.63, 3.09, 3.26,\n",
    "   2.04, 3.74, 2.99, 2.34, 2.77, 3.05, 3.29, 3.14, 3.17]\n",
    "        "
   ]
  },
  {
   "cell_type": "code",
   "execution_count": 133,
   "metadata": {},
   "outputs": [
    {
     "name": "stdout",
     "output_type": "stream",
     "text": [
      "{'a_3': 2.46}\n",
      "all are correct\n"
     ]
    }
   ],
   "source": [
    "### Assign your answers here\n",
    "per = np.percentile([3.09, 2.48, 2.02, 2.98, 3.53, 2.41, 2.01, 2.95, 2.63, 3.09, 3.26, 2.04, 3.74, 2.99, 2.34, 2.77, 3.05, 3.29, 3.14, 3.17],25)\n",
    "a_3 = round(per,2)\n",
    "\n",
    "###For evaluation\n",
    "ans_3 = {\"a_3\": a_3}\n",
    "print(ans_3)\n",
    "quiz.eval(3, ans_3)"
   ]
  },
  {
   "cell_type": "markdown",
   "metadata": {},
   "source": [
    "4. Suppose a marble is randomly selected from a jar containing 12 red, 4 black, and 8 blue marbles. Find the   probability of the following:  \n",
    "a. The marble is red or black  \n",
    "b. The marble is black or blue  \n",
    "c. The marble is not blue  \n",
    "d. The marble is red or not blue  "
   ]
  },
  {
   "cell_type": "code",
   "execution_count": 134,
   "metadata": {},
   "outputs": [
    {
     "name": "stdout",
     "output_type": "stream",
     "text": [
      "all are correct\n"
     ]
    }
   ],
   "source": [
    "### Assign your answers here\n",
    "a_4 = round(16/24,2)\n",
    "b_4 = round(12/24,2)\n",
    "c_4 = round(16/24,2)\n",
    "d_4 = round(16/24,2)\n",
    "\n",
    "### For evalution\n",
    "ans_4 = {\"a_4\":a_4, \"b_4\": b_4, \"c_4\" : c_4, \"d_4\": d_4}\n",
    "quiz.eval(4, ans_4)"
   ]
  },
  {
   "cell_type": "markdown",
   "metadata": {},
   "source": [
    "5. Let A and B be events with P(A) = 0.2, P(B) = 0.8, and P(A ∩ B) = 0.1 Find the following  \n",
    "   a. $P(\\bar B)$  \n",
    "   b. $P(\\bar A \\cap \\bar B)$  \n",
    "   c. $P(\\bar B \\space | \\space A)$   \n",
    "   d. $P(\\bar A \\cap B)$  "
   ]
  },
  {
   "cell_type": "code",
   "execution_count": 135,
   "metadata": {},
   "outputs": [
    {
     "name": "stdout",
     "output_type": "stream",
     "text": [
      "all are correct\n"
     ]
    }
   ],
   "source": [
    "### Assign your answers here\n",
    "a_5 = 0.2\n",
    "b_5 = 0.1\n",
    "c_5 = (0.2-0.1)/0.2\n",
    "d_5 = 0.7\n",
    "\n",
    "### For evalution\n",
    "ans_5 = {\"a_5\":a_5, \"b_5\": b_5, \"c_5\" : c_5, \"d_5\": d_5}\n",
    "\n",
    "quiz.eval(5, ans_5)"
   ]
  },
  {
   "cell_type": "markdown",
   "metadata": {},
   "source": [
    "6. Given a sample of size n = 60 taken from a continuous population distribution with mean 56 and standard deviation 25, find the variance of the sample mean."
   ]
  },
  {
   "cell_type": "code",
   "execution_count": 136,
   "metadata": {},
   "outputs": [
    {
     "name": "stdout",
     "output_type": "stream",
     "text": [
      "all are correct\n"
     ]
    }
   ],
   "source": [
    "### Assign your answers here\n",
    "\n",
    "variance = round(math.pow(25, 2)/60,2)\n",
    "\n",
    "### For evalution\n",
    "ans_6 = {\"variance\": variance}\n",
    "quiz.eval(6, ans_6)"
   ]
  },
  {
   "cell_type": "code",
   "execution_count": 137,
   "metadata": {},
   "outputs": [
    {
     "data": {
      "text/plain": [
       "10.42"
      ]
     },
     "execution_count": 137,
     "metadata": {},
     "output_type": "execute_result"
    }
   ],
   "source": [
    "variance"
   ]
  },
  {
   "cell_type": "markdown",
   "metadata": {},
   "source": [
    "7. 55% of all engineering students prefer internship over final year project. Suppose 12 students are randomly selected and the number in favor of internship is recorded. Find the following:  \n",
    "a. The probability that exactly seven of them choose internship.  \n",
    "b. The probability that at most eight of them choose internship.  \n",
    "c. The probability that at least five of them choose internship.  \n",
    "d. The probability that at least seven, but no more than 10, choose internship.  "
   ]
  },
  {
   "cell_type": "code",
   "execution_count": 138,
   "metadata": {},
   "outputs": [
    {
     "name": "stdout",
     "output_type": "stream",
     "text": [
      "all are correct\n"
     ]
    }
   ],
   "source": [
    "### Assign your answers here\n",
    "a_7 = round(scipy.stats.binom.pmf(7, 12, 0.55),2)\n",
    "b_7 = round(scipy.stats.binom.cdf(8, 12, 0.55),2)\n",
    "c_7 = round(1-sum([scipy.stats.binom.pmf(i, 12, 0.55) for i in range(0,5)]),2)\n",
    "d_7 = round(sum([scipy.stats.binom.pmf(i, 12, 0.55) for i in range(7,11)]),2)\n",
    "\n",
    "### For evalution\n",
    "ans_7 = {\"a_7\":a_7, \"b_7\": b_7, \"c_7\" : c_7, \"d_7\": d_7}\n",
    "\n",
    "quiz.eval(7, ans_7)"
   ]
  },
  {
   "cell_type": "markdown",
   "metadata": {},
   "source": [
    "8. Suppose the population variable X is N(3, 0.3) and n = 20. How large an interval must be chosen so that the probability is 0.95 that the sample mean $\\bar X$ lies within ±a units of the population mean μ?"
   ]
  },
  {
   "cell_type": "code",
   "execution_count": 139,
   "metadata": {},
   "outputs": [
    {
     "name": "stdout",
     "output_type": "stream",
     "text": [
      "all are correct\n"
     ]
    }
   ],
   "source": [
    "### Assign your answers here\n",
    "a,b = scipy.stats.norm.interval(alpha=0.475, loc=3, scale=0.3)\n",
    "interval = round(b-a,2)\n",
    "\n",
    "### For evalution\n",
    "ans_8 = {\"interval\":np.around(interval, 1)}\n",
    "quiz.eval(8, ans_8)"
   ]
  },
  {
   "cell_type": "markdown",
   "metadata": {},
   "source": [
    "9. A random variable X is N(25, 4). Find the indicated percentile for X:  \n",
    "a. The 10th percentile   \n",
    "b. The 90th percentile  \n",
    "c. The 80th percentile  \n",
    "d. The 50th percentile  "
   ]
  },
  {
   "cell_type": "code",
   "execution_count": 140,
   "metadata": {},
   "outputs": [
    {
     "name": "stdout",
     "output_type": "stream",
     "text": [
      "all are correct\n"
     ]
    }
   ],
   "source": [
    "### Assign your answers here\n",
    "\n",
    "a_9 = 19.88\n",
    "b_9 = 30.12\n",
    "c_9 = 28.36\n",
    "d_9 = np.round(scipy.stats.norm.ppf(0.5, loc=25, scale=4),2)\n",
    "\n",
    "### For evalution\n",
    "ans_9 = {\"a_9\":a_9, \"b_9\": b_9, \"c_9\" : c_9, \"d_9\": d_9}\n",
    "quiz.eval(9, ans_9)"
   ]
  },
  {
   "cell_type": "markdown",
   "metadata": {},
   "source": [
    "### Run the below cell to save your answers for final evaluation"
   ]
  },
  {
   "cell_type": "code",
   "execution_count": 141,
   "metadata": {},
   "outputs": [
    {
     "data": {
      "text/plain": [
       "100.0"
      ]
     },
     "execution_count": 141,
     "metadata": {},
     "output_type": "execute_result"
    }
   ],
   "source": [
    "with open('Quiz.pik', 'wb') as file:\n",
    "    dill.dump(quiz, file)\n",
    "quiz = dill.load(open('Quiz.pik', 'rb'))\n",
    "quiz.score()"
   ]
  },
  {
   "cell_type": "code",
   "execution_count": null,
   "metadata": {},
   "outputs": [],
   "source": []
  },
  {
   "cell_type": "code",
   "execution_count": null,
   "metadata": {},
   "outputs": [],
   "source": []
  },
  {
   "cell_type": "code",
   "execution_count": null,
   "metadata": {},
   "outputs": [],
   "source": []
  },
  {
   "cell_type": "code",
   "execution_count": null,
   "metadata": {},
   "outputs": [],
   "source": []
  }
 ],
 "metadata": {
  "kernelspec": {
   "display_name": "Python 3",
   "language": "python",
   "name": "python3"
  },
  "language_info": {
   "codemirror_mode": {
    "name": "ipython",
    "version": 3
   },
   "file_extension": ".py",
   "mimetype": "text/x-python",
   "name": "python",
   "nbconvert_exporter": "python",
   "pygments_lexer": "ipython3",
   "version": "3.5.2"
  }
 },
 "nbformat": 4,
 "nbformat_minor": 2
}
